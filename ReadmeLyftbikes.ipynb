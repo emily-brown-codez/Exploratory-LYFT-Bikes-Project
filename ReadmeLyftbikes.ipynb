{
 "cells": [
  {
   "cell_type": "markdown",
   "metadata": {},
   "source": [
    "# Readme\n",
    "# Lyft Bike Rentals from September 2019\n",
    "## by Emily Brown"
   ]
  },
  {
   "cell_type": "markdown",
   "metadata": {},
   "source": [
    " - The Lyft Bike Rentals data set was picked because it was very recent and I was curious to find out the customer base for their bike rentals.  I have visited the San Francisco area before.  I enjoyed finding a few popular bike station locations for the college aged customers.  It would not have been possible to find them that quickly without the help of scatter plots."
   ]
  },
  {
   "cell_type": "markdown",
   "metadata": {},
   "source": [
    "I choose these four results to include in my presentation. These visualizations were clean and told the most interesting and important data from my exploratory analysis.\n",
    "\n",
    "## Distribution of ride duration\n",
    "\n",
    "> Lyft bikes are very popular to ride for the first ten minutes.  After that, the number of rentals and time duration keeps gradually dropping.  There were over 5000 5-10 minute Lyft rentals in the month September 2019.\n",
    "\n",
    "\n",
    "## Gender Pie Chart\n",
    "\n",
    "> Lyft bike renters are 75.2% male, 23.3% female, and 1.5% other.\n",
    "\n",
    "## Member Birth Year vs. Start Station ID\n",
    "\n",
    ">The starting station where users rent their Lyft bike can make a difference.  There are two gaps in the plot at station id 300 and 410 as these stations are predominantly used by college aged students.  I looked up both locations and found them to be close to universities.  \n",
    "\n",
    "## Members born after 1985 vs. Ride Duration and Gender\n",
    "\n",
    "> Males rode on avg for 11 minutes, females for 13.5 minutes, and other for almost 13 minutes.  This is all for riders who are 34 years of age or younger."
   ]
  },
  {
   "cell_type": "markdown",
   "metadata": {},
   "source": [
    " ## Feedback\n",
    " - I obtained feedback from a friend who is not in the data industry.  There was a plot or two where I left of a title and/or axis label.  This peer review helped me to correct these mistakes before submitting my project."
   ]
  },
  {
   "cell_type": "markdown",
   "metadata": {},
   "source": [
    "## Resources\n",
    "- Resources for this project include Udacity's class materials, Udacity's data visualization project sample, matplotlib documentation, and seaborn documentation websites.  I also used stackoverflow and google to look up concepts and documentation that I needed to review."
   ]
  }
 ],
 "metadata": {
  "kernelspec": {
   "display_name": "Python 3",
   "language": "python",
   "name": "python3"
  },
  "language_info": {
   "codemirror_mode": {
    "name": "ipython",
    "version": 3
   },
   "file_extension": ".py",
   "mimetype": "text/x-python",
   "name": "python",
   "nbconvert_exporter": "python",
   "pygments_lexer": "ipython3",
   "version": "3.7.3"
  }
 },
 "nbformat": 4,
 "nbformat_minor": 2
}
